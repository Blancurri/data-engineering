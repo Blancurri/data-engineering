{
 "metadata": {
  "language_info": {
   "codemirror_mode": {
    "name": "ipython",
    "version": 3
   },
   "file_extension": ".py",
   "mimetype": "text/x-python",
   "name": "python",
   "nbconvert_exporter": "python",
   "pygments_lexer": "ipython3",
   "version": "3.8.3-final"
  },
  "orig_nbformat": 2,
  "kernelspec": {
   "name": "Python 3.8.3 64-bit ('base': conda)",
   "display_name": "Python 3.8.3 64-bit ('base': conda)",
   "metadata": {
    "interpreter": {
     "hash": "509544ed274448be863097975e4c4a5e00456e21701f0892cc8ca7f90ca9a374"
    }
   }
  }
 },
 "nbformat": 4,
 "nbformat_minor": 2,
 "cells": [
  {
   "cell_type": "code",
   "execution_count": 3,
   "metadata": {},
   "outputs": [],
   "source": [
    "## Challenge2 - python standard\n",
    "import csv"
   ]
  },
  {
   "cell_type": "code",
   "execution_count": 5,
   "metadata": {},
   "outputs": [
    {
     "output_type": "stream",
     "name": "stdout",
     "text": [
      "California 2016-08-04 00:01:38\nAlaska 2016-08-04 00:02:28\nHawaii 2016-08-04 00:03:09\nCalifornia 2016-08-04 00:18:31\nAlaska 2016-08-04 00:18:59\nCalifornia 2016-08-04 00:19:19\nCalifornia 2016-08-04 00:22:00\nAlaska 2016-08-04 00:22:46\nCalifornia 2016-08-04 00:27:32\nAlaska 2016-08-04 00:29:45\nAlaska 2016-08-04 00:33:11\nHawaii 2016-08-04 00:38:35\nAlaska 2016-08-04 00:39:58\nCalifornia 2016-08-04 00:44:29\nCalifornia 2016-08-04 00:45:41\nAlaska 2016-08-04 00:48:13\nUtah 2016-08-04 00:51:53\nCalifornia 2016-08-04 00:55:35\nCalifornia 2016-08-04 00:58:19\nCalifornia 2016-08-04 00:58:32\nCalifornia 2016-08-04 01:00:23\nAlaska 2016-08-04 01:02:01\nCalifornia 2016-08-04 01:02:37\nCalifornia 2016-08-04 01:03:57\nCalifornia 2016-08-04 01:04:09\nCalifornia 2016-08-04 01:05:01\nCalifornia 2016-08-04 01:06:02\nCalifornia 2016-08-04 01:06:29\nCalifornia 2016-08-04 01:06:41\nCalifornia 2016-08-04 01:07:03\nCalifornia 2016-08-04 01:09:07\nCalifornia 2016-08-04 01:11:34\nCalifornia 2016-08-04 01:13:40\nAlaska 2016-08-04 01:13:55\nCalifornia 2016-08-04 01:14:21\nCalifornia 2016-08-04 01:14:41\nCalifornia 2016-08-04 01:15:25\nCalifornia 2016-08-04 01:16:03\nCalifornia 2016-08-04 01:16:20\nCalifornia 2016-08-04 01:17:25\nCalifornia 2016-08-04 01:18:50\nCalifornia 2016-08-04 01:21:00\nCalifornia 2016-08-04 01:21:21\nCalifornia 2016-08-04 01:21:44\nCalifornia 2016-08-04 01:22:33\nCalifornia 2016-08-04 01:22:58\nCalifornia 2016-08-04 01:23:20\nCalifornia 2016-08-04 01:24:18\nCalifornia 2016-08-04 01:25:35\nCalifornia 2016-08-04 01:26:23\nCalifornia 2016-08-04 01:27:05\nCalifornia 2016-08-04 01:28:00\nAlaska 2016-08-04 01:28:41\nCalifornia 2016-08-04 01:28:47\nAlaska 2016-08-04 01:29:07\nCalifornia 2016-08-04 01:29:15\nCalifornia 2016-08-04 01:29:36\nCalifornia 2016-08-04 01:30:57\nCalifornia 2016-08-04 01:32:54\nCalifornia 2016-08-04 01:33:04\nCalifornia 2016-08-04 01:34:23\nCalifornia 2016-08-04 01:34:45\nCalifornia 2016-08-04 01:35:40\nCalifornia 2016-08-04 01:36:14\nCalifornia 2016-08-04 01:38:16\nCalifornia 2016-08-04 01:38:37\nCalifornia 2016-08-04 01:39:18\nCalifornia 2016-08-04 01:39:54\nCalifornia 2016-08-04 01:41:25\nCalifornia 2016-08-04 01:42:36\nAlaska 2016-08-04 01:44:47\nCalifornia 2016-08-04 01:45:07\nCalifornia 2016-08-04 01:49:17\nCalifornia 2016-08-04 01:49:51\nCalifornia 2016-08-04 01:50:44\nCalifornia 2016-08-04 01:51:36\nCalifornia 2016-08-04 01:53:00\nCalifornia 2016-08-04 01:53:29\nAlaska 2016-08-04 01:54:35\nNicaragua 2016-08-04 01:57:02\nCalifornia 2016-08-04 01:59:03\nCalifornia 2016-08-04 02:01:42\nCalifornia 2016-08-04 02:02:59\nAlaska 2016-08-04 02:06:00\nCalifornia 2016-08-04 02:08:08\nCalifornia 2016-08-04 02:08:51\nAlaska 2016-08-04 02:09:55\nCalifornia 2016-08-04 02:10:07\nCalifornia 2016-08-04 02:11:19\nUtah 2016-08-04 02:11:29\nAlaska 2016-08-04 02:12:10\nCalifornia 2016-08-04 02:13:42\nAlaska 2016-08-04 02:14:33\nCalifornia 2016-08-04 02:20:40\nCalifornia 2016-08-04 02:21:09\nAlaska 2016-08-04 02:22:15\nAlaska 2016-08-04 02:22:52\nCalifornia 2016-08-04 02:23:06\nAlaska 2016-08-04 02:25:06\nCalifornia 2016-08-04 02:25:54\nCalifornia 2016-08-04 02:31:35\nAlaska 2016-08-04 02:34:14\nCalifornia 2016-08-04 02:34:56\nCalifornia 2016-08-04 02:35:45\nCalifornia 2016-08-04 02:36:34\nCanada 2016-08-04 02:37:10\nCalifornia 2016-08-04 02:40:07\nAlaska 2016-08-04 02:40:18\nCalifornia 2016-08-04 02:44:47\nCalifornia 2016-08-04 02:45:39\nCalifornia 2016-08-04 02:47:16\nCalifornia 2016-08-04 02:49:26\nCalifornia 2016-08-04 02:50:05\nCalifornia 2016-08-04 02:51:18\nAlaska 2016-08-04 02:52:13\nCalifornia 2016-08-04 02:53:06\nMontana 2016-08-04 02:56:29\nCalifornia 2016-08-04 02:59:35\nCalifornia 2016-08-04 03:01:04\nCalifornia 2016-08-04 03:03:06\nCalifornia 2016-08-04 03:11:47\nCalifornia 2016-08-04 03:13:40\nCalifornia 2016-08-04 03:20:16\nCalifornia 2016-08-04 03:23:12\nAlaska 2016-08-04 03:27:30\nCalifornia 2016-08-04 03:29:19\nCalifornia 2016-08-04 03:29:46\nCalifornia 2016-08-04 03:30:03\nAlaska 2016-08-04 03:31:08\nCalifornia 2016-08-04 03:31:31\nCalifornia 2016-08-04 03:33:59\nCalifornia 2016-08-04 03:35:51\nCalifornia 2016-08-04 03:38:15\nCalifornia 2016-08-04 03:38:18\nMontana 2016-08-04 03:39:06\nCalifornia 2016-08-04 03:42:16\nCalifornia 2016-08-04 03:49:23\nCalifornia 2016-08-04 03:50:05\nCalifornia 2016-08-04 03:59:35\nAlaska 2016-08-04 04:01:26\nCalifornia 2016-08-04 04:06:38\nHawaii 2016-08-04 04:07:06\nAlaska 2016-08-04 04:11:23\nCalifornia 2016-08-04 04:12:35\nCalifornia 2016-08-04 04:21:12\nCalifornia 2016-08-04 04:24:45\nCalifornia 2016-08-04 04:25:22\nCalifornia 2016-08-04 04:28:12\nCalifornia 2016-08-04 04:30:13\nCalifornia 2016-08-04 04:31:45\nCalifornia 2016-08-04 04:33:54\nAlaska 2016-08-04 04:34:06\nCalifornia 2016-08-04 04:34:39\nCalifornia 2016-08-04 04:48:24\nAlaska 2016-08-04 04:48:38\nCalifornia 2016-08-04 04:52:58\nCalifornia 2016-08-04 04:55:02\nPapua New Guinea 2016-08-04 05:01:21\nCalifornia 2016-08-04 05:05:49\nCalifornia 2016-08-04 05:10:55\nCalifornia 2016-08-04 05:12:06\nCalifornia 2016-08-04 05:12:16\nCalifornia 2016-08-04 05:13:16\nCalifornia 2016-08-04 05:14:38\nCalifornia 2016-08-04 05:23:29\nPuerto Rico 2016-08-04 05:31:04\nCalifornia 2016-08-04 05:34:06\nCalifornia 2016-08-04 05:34:08\nCalifornia 2016-08-04 05:37:32\nNevada 2016-08-04 05:41:12\nCalifornia 2016-08-04 05:45:49\nCalifornia 2016-08-04 05:46:17\nCalifornia 2016-08-04 05:51:52\nPuerto Rico 2016-08-04 05:55:51\nCalifornia 2016-08-04 05:57:39\nNevada 2016-08-04 06:00:27\nAlaska 2016-08-04 06:05:28\nAlaska 2016-08-04 06:10:36\nBritish Virgin Islands 2016-08-04 06:13:18\nCalifornia 2016-08-04 06:13:52\nAlaska 2016-08-04 06:16:15\nCalifornia 2016-08-04 06:22:50\nCalifornia 2016-08-04 06:22:59\nCalifornia 2016-08-04 06:23:02\nCalifornia 2016-08-04 06:24:03\nAlaska 2016-08-04 06:35:21\nCalifornia 2016-08-04 06:36:23\nCalifornia 2016-08-04 06:38:01\nAlaska 2016-08-04 06:38:13\nCalifornia 2016-08-04 06:39:14\nAlaska 2016-08-04 06:43:22\nAlaska 2016-08-04 06:57:21\nCalifornia 2016-08-04 06:58:14\nCalifornia 2016-08-04 07:03:59\nDominican Republic 2016-08-04 07:06:49\nMexico 2016-08-04 07:08:24\nNevada 2016-08-04 07:15:00\nCalifornia 2016-08-04 07:15:24\nAlaska 2016-08-04 07:18:23\nCalifornia 2016-08-04 07:25:09\nCalifornia 2016-08-04 07:27:12\nCalifornia 2016-08-04 07:30:31\nMontana 2016-08-04 07:31:16\nAlaska 2016-08-04 07:37:10\nCalifornia 2016-08-04 07:44:35\nAlaska 2016-08-04 07:46:57\nIndonesia 2016-08-04 07:49:45\nWyoming 2016-08-04 07:59:16\nAlaska 2016-08-04 08:00:00\nNevada 2016-08-04 08:04:27\nCalifornia 2016-08-04 08:18:52\nCalifornia 2016-08-04 08:21:01\nCalifornia 2016-08-04 08:25:36\nCalifornia 2016-08-04 08:29:02\nCalifornia 2016-08-04 08:31:04\nAlaska 2016-08-04 08:40:03\nCalifornia 2016-08-04 08:42:31\nCalifornia 2016-08-04 08:43:17\nCalifornia 2016-08-04 08:43:21\nAlaska 2016-08-04 08:47:50\nCalifornia 2016-08-04 08:50:00\nAlaska 2016-08-04 08:51:36\nNevada 2016-08-04 08:53:42\nCalifornia 2016-08-04 08:53:50\nCalifornia 2016-08-04 08:53:54\nHawaii 2016-08-04 08:54:46\nAlaska 2016-08-04 09:01:02\nAlaska 2016-08-04 09:15:07\nCalifornia 2016-08-04 09:15:17\nCalifornia 2016-08-04 09:16:39\nNevada 2016-08-04 09:18:13\nNevada 2016-08-04 09:21:32\nCalifornia 2016-08-04 09:30:11\nCalifornia 2016-08-04 09:35:06\nCalifornia 2016-08-04 09:36:41\nCalifornia 2016-08-04 09:39:18\nCalifornia 2016-08-04 09:39:27\nCalifornia 2016-08-04 09:39:35\nAlaska 2016-08-04 09:46:39\nNevada 2016-08-04 10:00:41\nCanada 2016-08-04 10:07:19\nCalifornia 2016-08-04 10:09:37\nAlaska 2016-08-04 10:13:51\nCalifornia 2016-08-04 10:14:26\nArgentina 2016-08-04 10:15:12\nNevada 2016-08-04 10:15:55\nAlaska 2016-08-04 10:23:38\nCalifornia 2016-08-04 10:26:19\nCalifornia 2016-08-04 10:37:42\nIndonesia 2016-08-04 10:48:22\nAlaska 2016-08-04 10:51:51\nCalifornia 2016-08-04 10:57:22\nNorthern Mariana Islands 2016-08-04 11:06:00\nAlaska 2016-08-04 11:06:32\nNevada 2016-08-04 11:07:25\nHawaii 2016-08-04 11:11:50\nAlaska 2016-08-04 11:17:15\nAlaska 2016-08-04 11:29:29\nCalifornia 2016-08-04 11:32:15\nCalifornia 2016-08-04 11:36:25\nCalifornia 2016-08-04 11:39:31\nNevada 2016-08-04 11:40:30\nCalifornia 2016-08-04 11:40:53\nCalifornia 2016-08-04 11:41:29\nCalifornia 2016-08-04 11:41:34\nNevada 2016-08-04 11:41:40\nAlaska 2016-08-04 11:42:19\nCalifornia 2016-08-04 11:42:50\nCalifornia 2016-08-04 11:43:30\nCalifornia 2016-08-04 11:47:07\nAlaska 2016-08-04 11:48:41\nCalifornia 2016-08-04 11:53:52\nCalifornia 2016-08-04 11:55:23\nCalifornia 2016-08-04 11:58:02\nAlaska 2016-08-04 12:00:31\nNevada 2016-08-04 12:07:19\nNevada 2016-08-04 12:10:07\nAlaska 2016-08-04 12:11:46\nCalifornia 2016-08-04 12:13:31\nAlaska 2016-08-04 12:20:50\nCalifornia 2016-08-04 12:23:14\nJapan 2016-08-04 12:24:33\nCalifornia 2016-08-04 12:27:39\nCalifornia 2016-08-04 12:27:59\nCalifornia 2016-08-04 12:33:19\nAlaska 2016-08-04 12:48:53\nAlaska 2016-08-04 13:01:44\nCalifornia 2016-08-04 13:02:16\nAlaska 2016-08-04 13:02:59\nCalifornia 2016-08-04 13:15:18\nCalifornia 2016-08-04 13:19:15\nAfghanistan 2016-08-04 13:20:43\nNevada 2016-08-04 13:29:13\nAlaska 2016-08-04 13:29:58\nNevada 2016-08-04 13:36:15\nCalifornia 2016-08-04 13:36:47\nWyoming 2016-08-04 14:00:53\nAlaska 2016-08-04 14:04:36\nNevada 2016-08-04 14:04:40\nWyoming 2016-08-04 14:13:57\nCalifornia 2016-08-04 14:19:59\nCalifornia 2016-08-04 14:21:27\nAlaska 2016-08-04 14:28:59\nNevada 2016-08-04 14:30:10\nCalifornia 2016-08-04 14:35:37\nAlaska 2016-08-04 14:39:19\nCalifornia 2016-08-04 14:44:12\nCalifornia 2016-08-04 14:49:21\nCalifornia 2016-08-04 15:00:06\nAlaska 2016-08-04 15:00:09\nCalifornia 2016-08-04 15:00:26\nNevada 2016-08-04 15:14:47\nAlaska 2016-08-04 15:24:53\nAlaska 2016-08-04 15:26:16\nCalifornia 2016-08-04 15:45:06\nCalifornia 2016-08-04 15:52:34\nNevada 2016-08-04 15:53:10\nCalifornia 2016-08-04 15:58:14\nAlaska 2016-08-04 16:09:34\nAlaska 2016-08-04 16:23:05\nCalifornia 2016-08-04 16:24:31\nCalifornia 2016-08-04 16:32:59\nCalifornia 2016-08-04 16:33:04\nCalifornia 2016-08-04 16:45:16\nAlaska 2016-08-04 16:49:31\nCalifornia 2016-08-04 16:50:26\nCalifornia 2016-08-04 16:53:46\nAlaska 2016-08-04 16:57:38\nAlaska 2016-08-04 16:58:24\nAlaska 2016-08-04 16:58:48\nCalifornia 2016-08-04 17:00:34\nCanada 2016-08-04 17:01:52\nAlaska 2016-08-04 17:02:10\nCalifornia 2016-08-04 17:10:01\nCalifornia 2016-08-04 17:10:19\nCalifornia 2016-08-04 17:12:56\nAlaska 2016-08-04 17:22:30\nCalifornia 2016-08-04 17:29:14\nCalifornia 2016-08-04 17:29:23\nCalifornia 2016-08-04 17:30:10\nCalifornia 2016-08-04 17:31:22\nTajikistan 2016-08-04 17:34:41\nTajikistan 2016-08-04 17:36:45\nAlaska 2016-08-04 17:51:31\nTajikistan 2016-08-04 17:54:59\nAlaska 2016-08-04 18:15:24\nCanada 2016-08-04 18:15:51\nCalifornia 2016-08-04 18:17:55\nNevada 2016-08-04 18:22:42\nSouth Georgia and the South Sandwich Islands 2016-08-04 18:27:36\nCalifornia 2016-08-04 18:31:38\nCanada 2016-08-04 18:39:01\nMexico 2016-08-04 18:43:54\nAlaska 2016-08-04 18:51:05\nAlaska 2016-08-04 18:53:14\nCalifornia 2016-08-04 19:00:14\nAlaska 2016-08-04 19:05:35\nCalifornia 2016-08-04 19:05:52\nCalifornia 2016-08-04 19:06:03\nAlaska 2016-08-04 19:12:49\nMexico 2016-08-04 19:13:50\nNevada 2016-08-04 19:16:01\nNevada 2016-08-04 19:20:35\nAlaska 2016-08-04 19:25:52\nAlaska 2016-08-04 19:34:48\nCalifornia 2016-08-04 19:35:24\nMontana 2016-08-04 19:38:42\nCalifornia 2016-08-04 19:42:14\nTajikistan 2016-08-04 19:42:17\nCalifornia 2016-08-04 19:50:18\nAlaska 2016-08-04 19:53:43\nPhilippines 2016-08-04 20:02:14\nOklahoma 2016-08-04 20:13:07\nCalifornia 2016-08-04 20:19:32\nAlaska 2016-08-04 20:26:58\nAlaska 2016-08-04 20:30:19\nCalifornia 2016-08-04 20:57:54\nBritish Virgin Islands 2016-08-04 20:58:47\nAlaska 2016-08-04 21:00:31\nVanuatu 2016-08-04 21:03:50\nBritish Virgin Islands 2016-08-04 21:03:56\nCalifornia 2016-08-04 21:07:25\nUtah 2016-08-04 21:11:29\nCalifornia 2016-08-04 21:12:22\nPuerto Rico 2016-08-04 21:13:41\nCalifornia 2016-08-04 21:15:41\nAlaska 2016-08-04 21:18:54\nCalifornia 2016-08-04 21:28:43\nAlaska 2016-08-04 21:32:17\nCalifornia 2016-08-04 21:47:11\nAlaska 2016-08-04 21:47:17\nCalifornia 2016-08-04 21:52:00\nCalifornia 2016-08-04 21:52:01\nCalifornia 2016-08-04 21:52:45\nCalifornia 2016-08-04 21:54:10\nCalifornia 2016-08-04 21:56:01\nCalifornia 2016-08-04 22:02:28\nCalifornia 2016-08-04 22:05:04\nCalifornia 2016-08-04 22:06:25\nAlaska 2016-08-04 22:07:36\nAlaska 2016-08-04 22:14:24\nNevada 2016-08-04 22:18:10\nAlaska 2016-08-04 22:19:47\nCalifornia 2016-08-04 22:21:46\nCalifornia 2016-08-04 22:29:59\nCalifornia 2016-08-04 22:33:43\nAlaska 2016-08-04 22:56:03\nNevada 2016-08-04 23:05:19\nHawaii 2016-08-04 23:05:45\nNevada 2016-08-04 23:28:40\nWyoming 2016-08-04 23:30:17\nJapan 2016-08-04 23:30:45\nNevada 2016-08-04 23:42:11\nEast Timor 2016-08-04 23:44:35\nCalifornia 2016-08-04 23:50:18\nCalifornia 2016-08-04 23:50:37\nCalifornia 2016-08-04 23:53:15\nCalifornia 2016-08-04 23:53:53\nCalifornia 2016-08-04 23:56:38\nCalifornia 2016-08-04 23:57:55\n"
     ]
    }
   ],
   "source": [
    "with open('earthquakes.csv', newline='') as csvfile:\n",
    "    reader = csv.reader(csvfile)\n",
    "    headers = reader.__next__()\n",
    "    for row in reader:\n",
    "        magnitude = float(row[2])\n",
    "        location = row[9]\n",
    "        time = row[12]\n",
    "        if '2016-08-04' in time:\n",
    "            print(location, time)"
   ]
  },
  {
   "cell_type": "code",
   "execution_count": 6,
   "metadata": {},
   "outputs": [
    {
     "output_type": "execute_result",
     "data": {
      "text/plain": [
       "              id  impact.gap  impact.magnitude  impact.significance  \\\n",
       "0     nc72666881      122.00              1.43                   31   \n",
       "1     us20006i0y       30.00              4.90                  371   \n",
       "2     nc72666891      249.00              0.06                    0   \n",
       "3     nc72666896      122.00              0.40                    2   \n",
       "4     nn00553447      113.61              0.30                    1   \n",
       "...          ...         ...               ...                  ...   \n",
       "8389  nc72685246       47.00              2.42                   90   \n",
       "8390  ak13879193        0.00              1.40                   30   \n",
       "8391  nc72685251      165.00              1.06                   17   \n",
       "8392  ci37672328      103.00              1.55                   37   \n",
       "8393  ci37672360       99.00              0.89                   12   \n",
       "\n",
       "      location.depth  location.distance                         location.full  \\\n",
       "0              15.12            0.10340       13km E of Livermore, California   \n",
       "1              97.07            1.43900            58km WNW of Pakokku, Burma   \n",
       "2               4.39            0.02743  12km SE of Mammoth Lakes, California   \n",
       "3               1.09            0.02699  6km SSW of Mammoth Lakes, California   \n",
       "4               7.60            0.06300             16km SSE of Mogul, Nevada   \n",
       "...              ...                ...                                   ...   \n",
       "8389            4.85            0.06167       22km ENE of Soledad, California   \n",
       "8390           50.00            0.00000           5km ESE of Big Lake, Alaska   \n",
       "8391            1.73            0.02042    6km WNW of The Geysers, California   \n",
       "8392           29.25            0.06980             6km NNW of Chatsworth, CA   \n",
       "8393            8.29            0.02562                14km NE of Yucaipa, CA   \n",
       "\n",
       "      location.latitude  location.longitude location.name  time.day  \\\n",
       "0             37.672333         -121.619000    California        27   \n",
       "1             21.514600           94.572100         Burma        27   \n",
       "2             37.576500         -118.859167    California        27   \n",
       "3             37.595833         -118.994833    California        27   \n",
       "4             39.377500         -119.845000        Nevada        27   \n",
       "...                 ...                 ...           ...       ...   \n",
       "8389          36.515499         -121.099831    California        25   \n",
       "8390          61.498400         -149.862700        Alaska        25   \n",
       "8391          38.805000         -122.821503    California        25   \n",
       "8392          34.308000         -118.635333    California        25   \n",
       "8393          34.119167         -116.933667    California        25   \n",
       "\n",
       "         time.epoch            time.full  time.hour  time.minute  time.month  \\\n",
       "0     1469593183550  2016-07-27 00:19:43          0           19           7   \n",
       "1     1469593228220  2016-07-27 00:20:28          0           20           7   \n",
       "2     1469593897150  2016-07-27 00:31:37          0           31           7   \n",
       "3     1469594144150  2016-07-27 00:35:44          0           35           7   \n",
       "4     1469594519667  2016-07-27 00:41:59          0           41           7   \n",
       "...             ...                  ...        ...          ...         ...   \n",
       "8389  1472181541970  2016-08-25 23:19:01         23           19           8   \n",
       "8390  1472181558000  2016-08-25 23:19:18         23           19           8   \n",
       "8391  1472182205600  2016-08-25 23:30:05         23           30           8   \n",
       "8392  1472182571880  2016-08-25 23:36:11         23           36           8   \n",
       "8393  1472183881830  2016-08-25 23:58:01         23           58           8   \n",
       "\n",
       "      time.second  time.year  \n",
       "0              43       2016  \n",
       "1              28       2016  \n",
       "2              37       2016  \n",
       "3              44       2016  \n",
       "4              59       2016  \n",
       "...           ...        ...  \n",
       "8389            1       2016  \n",
       "8390           18       2016  \n",
       "8391            5       2016  \n",
       "8392           11       2016  \n",
       "8393            1       2016  \n",
       "\n",
       "[8394 rows x 18 columns]"
      ],
      "text/html": "<div>\n<style scoped>\n    .dataframe tbody tr th:only-of-type {\n        vertical-align: middle;\n    }\n\n    .dataframe tbody tr th {\n        vertical-align: top;\n    }\n\n    .dataframe thead th {\n        text-align: right;\n    }\n</style>\n<table border=\"1\" class=\"dataframe\">\n  <thead>\n    <tr style=\"text-align: right;\">\n      <th></th>\n      <th>id</th>\n      <th>impact.gap</th>\n      <th>impact.magnitude</th>\n      <th>impact.significance</th>\n      <th>location.depth</th>\n      <th>location.distance</th>\n      <th>location.full</th>\n      <th>location.latitude</th>\n      <th>location.longitude</th>\n      <th>location.name</th>\n      <th>time.day</th>\n      <th>time.epoch</th>\n      <th>time.full</th>\n      <th>time.hour</th>\n      <th>time.minute</th>\n      <th>time.month</th>\n      <th>time.second</th>\n      <th>time.year</th>\n    </tr>\n  </thead>\n  <tbody>\n    <tr>\n      <th>0</th>\n      <td>nc72666881</td>\n      <td>122.00</td>\n      <td>1.43</td>\n      <td>31</td>\n      <td>15.12</td>\n      <td>0.10340</td>\n      <td>13km E of Livermore, California</td>\n      <td>37.672333</td>\n      <td>-121.619000</td>\n      <td>California</td>\n      <td>27</td>\n      <td>1469593183550</td>\n      <td>2016-07-27 00:19:43</td>\n      <td>0</td>\n      <td>19</td>\n      <td>7</td>\n      <td>43</td>\n      <td>2016</td>\n    </tr>\n    <tr>\n      <th>1</th>\n      <td>us20006i0y</td>\n      <td>30.00</td>\n      <td>4.90</td>\n      <td>371</td>\n      <td>97.07</td>\n      <td>1.43900</td>\n      <td>58km WNW of Pakokku, Burma</td>\n      <td>21.514600</td>\n      <td>94.572100</td>\n      <td>Burma</td>\n      <td>27</td>\n      <td>1469593228220</td>\n      <td>2016-07-27 00:20:28</td>\n      <td>0</td>\n      <td>20</td>\n      <td>7</td>\n      <td>28</td>\n      <td>2016</td>\n    </tr>\n    <tr>\n      <th>2</th>\n      <td>nc72666891</td>\n      <td>249.00</td>\n      <td>0.06</td>\n      <td>0</td>\n      <td>4.39</td>\n      <td>0.02743</td>\n      <td>12km SE of Mammoth Lakes, California</td>\n      <td>37.576500</td>\n      <td>-118.859167</td>\n      <td>California</td>\n      <td>27</td>\n      <td>1469593897150</td>\n      <td>2016-07-27 00:31:37</td>\n      <td>0</td>\n      <td>31</td>\n      <td>7</td>\n      <td>37</td>\n      <td>2016</td>\n    </tr>\n    <tr>\n      <th>3</th>\n      <td>nc72666896</td>\n      <td>122.00</td>\n      <td>0.40</td>\n      <td>2</td>\n      <td>1.09</td>\n      <td>0.02699</td>\n      <td>6km SSW of Mammoth Lakes, California</td>\n      <td>37.595833</td>\n      <td>-118.994833</td>\n      <td>California</td>\n      <td>27</td>\n      <td>1469594144150</td>\n      <td>2016-07-27 00:35:44</td>\n      <td>0</td>\n      <td>35</td>\n      <td>7</td>\n      <td>44</td>\n      <td>2016</td>\n    </tr>\n    <tr>\n      <th>4</th>\n      <td>nn00553447</td>\n      <td>113.61</td>\n      <td>0.30</td>\n      <td>1</td>\n      <td>7.60</td>\n      <td>0.06300</td>\n      <td>16km SSE of Mogul, Nevada</td>\n      <td>39.377500</td>\n      <td>-119.845000</td>\n      <td>Nevada</td>\n      <td>27</td>\n      <td>1469594519667</td>\n      <td>2016-07-27 00:41:59</td>\n      <td>0</td>\n      <td>41</td>\n      <td>7</td>\n      <td>59</td>\n      <td>2016</td>\n    </tr>\n    <tr>\n      <th>...</th>\n      <td>...</td>\n      <td>...</td>\n      <td>...</td>\n      <td>...</td>\n      <td>...</td>\n      <td>...</td>\n      <td>...</td>\n      <td>...</td>\n      <td>...</td>\n      <td>...</td>\n      <td>...</td>\n      <td>...</td>\n      <td>...</td>\n      <td>...</td>\n      <td>...</td>\n      <td>...</td>\n      <td>...</td>\n      <td>...</td>\n    </tr>\n    <tr>\n      <th>8389</th>\n      <td>nc72685246</td>\n      <td>47.00</td>\n      <td>2.42</td>\n      <td>90</td>\n      <td>4.85</td>\n      <td>0.06167</td>\n      <td>22km ENE of Soledad, California</td>\n      <td>36.515499</td>\n      <td>-121.099831</td>\n      <td>California</td>\n      <td>25</td>\n      <td>1472181541970</td>\n      <td>2016-08-25 23:19:01</td>\n      <td>23</td>\n      <td>19</td>\n      <td>8</td>\n      <td>1</td>\n      <td>2016</td>\n    </tr>\n    <tr>\n      <th>8390</th>\n      <td>ak13879193</td>\n      <td>0.00</td>\n      <td>1.40</td>\n      <td>30</td>\n      <td>50.00</td>\n      <td>0.00000</td>\n      <td>5km ESE of Big Lake, Alaska</td>\n      <td>61.498400</td>\n      <td>-149.862700</td>\n      <td>Alaska</td>\n      <td>25</td>\n      <td>1472181558000</td>\n      <td>2016-08-25 23:19:18</td>\n      <td>23</td>\n      <td>19</td>\n      <td>8</td>\n      <td>18</td>\n      <td>2016</td>\n    </tr>\n    <tr>\n      <th>8391</th>\n      <td>nc72685251</td>\n      <td>165.00</td>\n      <td>1.06</td>\n      <td>17</td>\n      <td>1.73</td>\n      <td>0.02042</td>\n      <td>6km WNW of The Geysers, California</td>\n      <td>38.805000</td>\n      <td>-122.821503</td>\n      <td>California</td>\n      <td>25</td>\n      <td>1472182205600</td>\n      <td>2016-08-25 23:30:05</td>\n      <td>23</td>\n      <td>30</td>\n      <td>8</td>\n      <td>5</td>\n      <td>2016</td>\n    </tr>\n    <tr>\n      <th>8392</th>\n      <td>ci37672328</td>\n      <td>103.00</td>\n      <td>1.55</td>\n      <td>37</td>\n      <td>29.25</td>\n      <td>0.06980</td>\n      <td>6km NNW of Chatsworth, CA</td>\n      <td>34.308000</td>\n      <td>-118.635333</td>\n      <td>California</td>\n      <td>25</td>\n      <td>1472182571880</td>\n      <td>2016-08-25 23:36:11</td>\n      <td>23</td>\n      <td>36</td>\n      <td>8</td>\n      <td>11</td>\n      <td>2016</td>\n    </tr>\n    <tr>\n      <th>8393</th>\n      <td>ci37672360</td>\n      <td>99.00</td>\n      <td>0.89</td>\n      <td>12</td>\n      <td>8.29</td>\n      <td>0.02562</td>\n      <td>14km NE of Yucaipa, CA</td>\n      <td>34.119167</td>\n      <td>-116.933667</td>\n      <td>California</td>\n      <td>25</td>\n      <td>1472183881830</td>\n      <td>2016-08-25 23:58:01</td>\n      <td>23</td>\n      <td>58</td>\n      <td>8</td>\n      <td>1</td>\n      <td>2016</td>\n    </tr>\n  </tbody>\n</table>\n<p>8394 rows × 18 columns</p>\n</div>"
     },
     "metadata": {},
     "execution_count": 6
    }
   ],
   "source": [
    "## Challenge2 - with pandas \n",
    "\n",
    "import pandas as pd\n",
    "\n",
    "pd.read_csv('earthquakes.csv')"
   ]
  },
  {
   "cell_type": "code",
   "execution_count": 15,
   "metadata": {},
   "outputs": [
    {
     "output_type": "execute_result",
     "data": {
      "text/plain": [
       "                      location.name  most active locations\n",
       "0                       Afghanistan                     10\n",
       "1                            Alaska                   2195\n",
       "2                          Anguilla                      1\n",
       "3                         Argentina                     11\n",
       "4                           Arizona                      3\n",
       "..                              ...                    ...\n",
       "113                      Washington                    171\n",
       "114                   West Virginia                      1\n",
       "115  Western Indian-Antarctic Ridge                      1\n",
       "116                  Western Xizang                      2\n",
       "117                         Wyoming                     37\n",
       "\n",
       "[118 rows x 2 columns]"
      ],
      "text/html": "<div>\n<style scoped>\n    .dataframe tbody tr th:only-of-type {\n        vertical-align: middle;\n    }\n\n    .dataframe tbody tr th {\n        vertical-align: top;\n    }\n\n    .dataframe thead th {\n        text-align: right;\n    }\n</style>\n<table border=\"1\" class=\"dataframe\">\n  <thead>\n    <tr style=\"text-align: right;\">\n      <th></th>\n      <th>location.name</th>\n      <th>most active locations</th>\n    </tr>\n  </thead>\n  <tbody>\n    <tr>\n      <th>0</th>\n      <td>Afghanistan</td>\n      <td>10</td>\n    </tr>\n    <tr>\n      <th>1</th>\n      <td>Alaska</td>\n      <td>2195</td>\n    </tr>\n    <tr>\n      <th>2</th>\n      <td>Anguilla</td>\n      <td>1</td>\n    </tr>\n    <tr>\n      <th>3</th>\n      <td>Argentina</td>\n      <td>11</td>\n    </tr>\n    <tr>\n      <th>4</th>\n      <td>Arizona</td>\n      <td>3</td>\n    </tr>\n    <tr>\n      <th>...</th>\n      <td>...</td>\n      <td>...</td>\n    </tr>\n    <tr>\n      <th>113</th>\n      <td>Washington</td>\n      <td>171</td>\n    </tr>\n    <tr>\n      <th>114</th>\n      <td>West Virginia</td>\n      <td>1</td>\n    </tr>\n    <tr>\n      <th>115</th>\n      <td>Western Indian-Antarctic Ridge</td>\n      <td>1</td>\n    </tr>\n    <tr>\n      <th>116</th>\n      <td>Western Xizang</td>\n      <td>2</td>\n    </tr>\n    <tr>\n      <th>117</th>\n      <td>Wyoming</td>\n      <td>37</td>\n    </tr>\n  </tbody>\n</table>\n<p>118 rows × 2 columns</p>\n</div>"
     },
     "metadata": {},
     "execution_count": 15
    }
   ],
   "source": [
    "df = pd.read_csv('earthquakes.csv')\n",
    "\n",
    "# filtering for the more repeated cities\n",
    "df.groupby(['location.name']).size().reset_index(name = 'most active locations')"
   ]
  },
  {
   "cell_type": "code",
   "execution_count": 20,
   "metadata": {},
   "outputs": [
    {
     "output_type": "execute_result",
     "data": {
      "text/plain": [
       "                     location.name  most active locations\n",
       "13                      California                   3609\n",
       "1                           Alaska                   2195\n",
       "55                          Nevada                    712\n",
       "37                          Hawaii                    225\n",
       "113                     Washington                    171\n",
       "..                             ...                    ...\n",
       "57                   New Hampshire                      1\n",
       "91                 South of Africa                      1\n",
       "92                 South of Panama                      1\n",
       "9    Azores-Cape St. Vincent Ridge                      1\n",
       "59                        New York                      1\n",
       "\n",
       "[118 rows x 2 columns]"
      ],
      "text/html": "<div>\n<style scoped>\n    .dataframe tbody tr th:only-of-type {\n        vertical-align: middle;\n    }\n\n    .dataframe tbody tr th {\n        vertical-align: top;\n    }\n\n    .dataframe thead th {\n        text-align: right;\n    }\n</style>\n<table border=\"1\" class=\"dataframe\">\n  <thead>\n    <tr style=\"text-align: right;\">\n      <th></th>\n      <th>location.name</th>\n      <th>most active locations</th>\n    </tr>\n  </thead>\n  <tbody>\n    <tr>\n      <th>13</th>\n      <td>California</td>\n      <td>3609</td>\n    </tr>\n    <tr>\n      <th>1</th>\n      <td>Alaska</td>\n      <td>2195</td>\n    </tr>\n    <tr>\n      <th>55</th>\n      <td>Nevada</td>\n      <td>712</td>\n    </tr>\n    <tr>\n      <th>37</th>\n      <td>Hawaii</td>\n      <td>225</td>\n    </tr>\n    <tr>\n      <th>113</th>\n      <td>Washington</td>\n      <td>171</td>\n    </tr>\n    <tr>\n      <th>...</th>\n      <td>...</td>\n      <td>...</td>\n    </tr>\n    <tr>\n      <th>57</th>\n      <td>New Hampshire</td>\n      <td>1</td>\n    </tr>\n    <tr>\n      <th>91</th>\n      <td>South of Africa</td>\n      <td>1</td>\n    </tr>\n    <tr>\n      <th>92</th>\n      <td>South of Panama</td>\n      <td>1</td>\n    </tr>\n    <tr>\n      <th>9</th>\n      <td>Azores-Cape St. Vincent Ridge</td>\n      <td>1</td>\n    </tr>\n    <tr>\n      <th>59</th>\n      <td>New York</td>\n      <td>1</td>\n    </tr>\n  </tbody>\n</table>\n<p>118 rows × 2 columns</p>\n</div>"
     },
     "metadata": {},
     "execution_count": 20
    }
   ],
   "source": [
    "# sorting the most actives cities\n",
    "cities = df.groupby(['location.name']).size().reset_index(name = 'most active locations')\n",
    "\n",
    "cities.sort_values(by = ['most active locations'], ascending = False)"
   ]
  },
  {
   "cell_type": "code",
   "execution_count": 22,
   "metadata": {},
   "outputs": [
    {
     "output_type": "execute_result",
     "data": {
      "text/plain": [
       "              location.name  most active locations\n",
       "13               California                   3609\n",
       "1                    Alaska                   2195\n",
       "55                   Nevada                    712\n",
       "37                   Hawaii                    225\n",
       "113              Washington                    171\n",
       "83              Puerto Rico                    156\n",
       "11   British Virgin Islands                     98\n",
       "54                  Montana                     96\n",
       "72                   Oregon                     81\n",
       "71                 Oklahoma                     66"
      ],
      "text/html": "<div>\n<style scoped>\n    .dataframe tbody tr th:only-of-type {\n        vertical-align: middle;\n    }\n\n    .dataframe tbody tr th {\n        vertical-align: top;\n    }\n\n    .dataframe thead th {\n        text-align: right;\n    }\n</style>\n<table border=\"1\" class=\"dataframe\">\n  <thead>\n    <tr style=\"text-align: right;\">\n      <th></th>\n      <th>location.name</th>\n      <th>most active locations</th>\n    </tr>\n  </thead>\n  <tbody>\n    <tr>\n      <th>13</th>\n      <td>California</td>\n      <td>3609</td>\n    </tr>\n    <tr>\n      <th>1</th>\n      <td>Alaska</td>\n      <td>2195</td>\n    </tr>\n    <tr>\n      <th>55</th>\n      <td>Nevada</td>\n      <td>712</td>\n    </tr>\n    <tr>\n      <th>37</th>\n      <td>Hawaii</td>\n      <td>225</td>\n    </tr>\n    <tr>\n      <th>113</th>\n      <td>Washington</td>\n      <td>171</td>\n    </tr>\n    <tr>\n      <th>83</th>\n      <td>Puerto Rico</td>\n      <td>156</td>\n    </tr>\n    <tr>\n      <th>11</th>\n      <td>British Virgin Islands</td>\n      <td>98</td>\n    </tr>\n    <tr>\n      <th>54</th>\n      <td>Montana</td>\n      <td>96</td>\n    </tr>\n    <tr>\n      <th>72</th>\n      <td>Oregon</td>\n      <td>81</td>\n    </tr>\n    <tr>\n      <th>71</th>\n      <td>Oklahoma</td>\n      <td>66</td>\n    </tr>\n  </tbody>\n</table>\n</div>"
     },
     "metadata": {},
     "execution_count": 22
    }
   ],
   "source": [
    "# top 10 cities where earthquakes are more active\n",
    "cities_ok = cities.sort_values(by = ['most active locations'], ascending = False)\n",
    "cities_ok.head(10)"
   ]
  },
  {
   "cell_type": "code",
   "execution_count": 24,
   "metadata": {},
   "outputs": [],
   "source": [
    "## Challenge3 - print as csv\n",
    "cities_ok.to_csv('cities_more_active.csv')"
   ]
  }
 ]
}